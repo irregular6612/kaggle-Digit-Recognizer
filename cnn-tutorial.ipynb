{
 "cells": [
  {
   "cell_type": "markdown",
   "id": "121e1281",
   "metadata": {
    "papermill": {
     "duration": 0.008861,
     "end_time": "2024-09-05T07:25:41.749247",
     "exception": false,
     "start_time": "2024-09-05T07:25:41.740386",
     "status": "completed"
    },
    "tags": []
   },
   "source": [
    "# import lib"
   ]
  },
  {
   "cell_type": "code",
   "execution_count": 1,
   "id": "5de10d18",
   "metadata": {
    "execution": {
     "iopub.execute_input": "2024-09-05T07:25:41.767981Z",
     "iopub.status.busy": "2024-09-05T07:25:41.767509Z",
     "iopub.status.idle": "2024-09-05T07:25:57.685811Z",
     "shell.execute_reply": "2024-09-05T07:25:57.684400Z"
    },
    "papermill": {
     "duration": 15.93012,
     "end_time": "2024-09-05T07:25:57.688409",
     "exception": false,
     "start_time": "2024-09-05T07:25:41.758289",
     "status": "completed"
    },
    "tags": []
   },
   "outputs": [
    {
     "name": "stdout",
     "output_type": "stream",
     "text": [
      "Requirement already satisfied: torchinfo in /opt/conda/lib/python3.10/site-packages (1.8.0)\r\n",
      "Note: you may need to restart the kernel to use updated packages.\n"
     ]
    }
   ],
   "source": [
    "%pip install torchinfo"
   ]
  },
  {
   "cell_type": "code",
   "execution_count": 2,
   "id": "9221718b",
   "metadata": {
    "_cell_guid": "b1076dfc-b9ad-4769-8c92-a6c4dae69d19",
    "_uuid": "8f2839f25d086af736a60e9eeb907d3b93b6e0e5",
    "execution": {
     "iopub.execute_input": "2024-09-05T07:25:57.708085Z",
     "iopub.status.busy": "2024-09-05T07:25:57.707348Z",
     "iopub.status.idle": "2024-09-05T07:26:01.312888Z",
     "shell.execute_reply": "2024-09-05T07:26:01.311915Z"
    },
    "papermill": {
     "duration": 3.61827,
     "end_time": "2024-09-05T07:26:01.315448",
     "exception": false,
     "start_time": "2024-09-05T07:25:57.697178",
     "status": "completed"
    },
    "tags": []
   },
   "outputs": [],
   "source": [
    "import pandas as pd\n",
    "import numpy as np\n",
    "import torch \n",
    "import torch.nn as nn\n",
    "import matplotlib.pyplot as plt\n",
    "from torch.utils.data import DataLoader, TensorDataset\n",
    "from torchinfo import summary\n",
    "from tqdm import tqdm"
   ]
  },
  {
   "cell_type": "markdown",
   "id": "9315f825",
   "metadata": {
    "papermill": {
     "duration": 0.008601,
     "end_time": "2024-09-05T07:26:01.332905",
     "exception": false,
     "start_time": "2024-09-05T07:26:01.324304",
     "status": "completed"
    },
    "tags": []
   },
   "source": [
    "# define a hyperparameters"
   ]
  },
  {
   "cell_type": "code",
   "execution_count": 3,
   "id": "93954c3e",
   "metadata": {
    "execution": {
     "iopub.execute_input": "2024-09-05T07:26:01.352989Z",
     "iopub.status.busy": "2024-09-05T07:26:01.352243Z",
     "iopub.status.idle": "2024-09-05T07:26:01.358149Z",
     "shell.execute_reply": "2024-09-05T07:26:01.357074Z"
    },
    "papermill": {
     "duration": 0.018506,
     "end_time": "2024-09-05T07:26:01.360416",
     "exception": false,
     "start_time": "2024-09-05T07:26:01.341910",
     "status": "completed"
    },
    "tags": []
   },
   "outputs": [],
   "source": [
    "args = {\n",
    "    'train_path': '/kaggle/input/digit-recognizer/train.csv',\n",
    "    'test_path': '/kaggle/input/digit-recognizer/test.csv',\n",
    "    'submission':'/kaggle/input/digit-recognizer/sample_submission.csv',\n",
    "    \n",
    "    'epochs': 40,\n",
    "    'lr': 2e-5,\n",
    "    'batch_size':256\n",
    "}"
   ]
  },
  {
   "cell_type": "markdown",
   "id": "75e686c2",
   "metadata": {
    "papermill": {
     "duration": 0.008835,
     "end_time": "2024-09-05T07:26:01.378068",
     "exception": false,
     "start_time": "2024-09-05T07:26:01.369233",
     "status": "completed"
    },
    "tags": []
   },
   "source": [
    "# check the sample dataset"
   ]
  },
  {
   "cell_type": "code",
   "execution_count": 4,
   "id": "f2ef3175",
   "metadata": {
    "execution": {
     "iopub.execute_input": "2024-09-05T07:26:01.397175Z",
     "iopub.status.busy": "2024-09-05T07:26:01.396336Z",
     "iopub.status.idle": "2024-09-05T07:26:07.968469Z",
     "shell.execute_reply": "2024-09-05T07:26:07.967602Z"
    },
    "papermill": {
     "duration": 6.58479,
     "end_time": "2024-09-05T07:26:07.971205",
     "exception": false,
     "start_time": "2024-09-05T07:26:01.386415",
     "status": "completed"
    },
    "tags": []
   },
   "outputs": [],
   "source": [
    "train_data = pd.read_csv(args['train_path'])\n",
    "test_data = pd.read_csv(args['test_path'])"
   ]
  },
  {
   "cell_type": "code",
   "execution_count": 5,
   "id": "10016840",
   "metadata": {
    "execution": {
     "iopub.execute_input": "2024-09-05T07:26:07.990135Z",
     "iopub.status.busy": "2024-09-05T07:26:07.989744Z",
     "iopub.status.idle": "2024-09-05T07:26:08.332674Z",
     "shell.execute_reply": "2024-09-05T07:26:08.331630Z"
    },
    "papermill": {
     "duration": 0.354981,
     "end_time": "2024-09-05T07:26:08.335166",
     "exception": false,
     "start_time": "2024-09-05T07:26:07.980185",
     "status": "completed"
    },
    "tags": []
   },
   "outputs": [
    {
     "name": "stdout",
     "output_type": "stream",
     "text": [
      "label:1\n"
     ]
    },
    {
     "data": {
      "text/plain": [
       "<matplotlib.image.AxesImage at 0x7db4c4502410>"
      ]
     },
     "execution_count": 5,
     "metadata": {},
     "output_type": "execute_result"
    },
    {
     "data": {
      "image/png": "[encoded data removed]",
      "text/plain": [
       "<Figure size 640x480 with 1 Axes>"
      ]
     },
     "metadata": {},
     "output_type": "display_data"
    }
   ],
   "source": [
    "sample_label = train_data.loc[0,:].iloc[0]\n",
    "print(f\"label:{sample_label}\")\n",
    "img_list = train_data.loc[0,:][1:].values\n",
    "img_tensor = torch.tensor(img_list).reshape(28,28)\n",
    "plt.imshow(img_tensor)"
   ]
  },
  {
   "cell_type": "markdown",
   "id": "5a547d03",
   "metadata": {
    "papermill": {
     "duration": 0.009178,
     "end_time": "2024-09-05T07:26:08.353387",
     "exception": false,
     "start_time": "2024-09-05T07:26:08.344209",
     "status": "completed"
    },
    "tags": []
   },
   "source": [
    "# preprocessing"
   ]
  },
  {
   "cell_type": "code",
   "execution_count": 6,
   "id": "66d433ea",
   "metadata": {
    "execution": {
     "iopub.execute_input": "2024-09-05T07:26:08.373249Z",
     "iopub.status.busy": "2024-09-05T07:26:08.372838Z",
     "iopub.status.idle": "2024-09-05T07:26:08.380663Z",
     "shell.execute_reply": "2024-09-05T07:26:08.379356Z"
    },
    "papermill": {
     "duration": 0.020453,
     "end_time": "2024-09-05T07:26:08.382788",
     "exception": false,
     "start_time": "2024-09-05T07:26:08.362335",
     "status": "completed"
    },
    "tags": []
   },
   "outputs": [
    {
     "data": {
      "text/plain": [
       "((42000, 785),\n",
       " pandas.core.frame.DataFrame,\n",
       " (28000, 784),\n",
       " pandas.core.frame.DataFrame)"
      ]
     },
     "execution_count": 6,
     "metadata": {},
     "output_type": "execute_result"
    }
   ],
   "source": [
    "train_data.shape, type(train_data), test_data.shape, type(test_data)"
   ]
  },
  {
   "cell_type": "code",
   "execution_count": 7,
   "id": "578fb858",
   "metadata": {
    "execution": {
     "iopub.execute_input": "2024-09-05T07:26:08.402737Z",
     "iopub.status.busy": "2024-09-05T07:26:08.402312Z",
     "iopub.status.idle": "2024-09-05T07:26:08.524326Z",
     "shell.execute_reply": "2024-09-05T07:26:08.523091Z"
    },
    "papermill": {
     "duration": 0.134833,
     "end_time": "2024-09-05T07:26:08.526759",
     "exception": false,
     "start_time": "2024-09-05T07:26:08.391926",
     "status": "completed"
    },
    "tags": []
   },
   "outputs": [
    {
     "data": {
      "text/plain": [
       "0        1\n",
       "1        0\n",
       "2        1\n",
       "3        4\n",
       "4        0\n",
       "        ..\n",
       "41995    0\n",
       "41996    1\n",
       "41997    7\n",
       "41998    6\n",
       "41999    9\n",
       "Name: label, Length: 42000, dtype: int64"
      ]
     },
     "execution_count": 7,
     "metadata": {},
     "output_type": "execute_result"
    }
   ],
   "source": [
    "#separate label from img data\n",
    "train_label = train_data['label']\n",
    "train_data = train_data.drop(axis=1, columns='label')\n",
    "train_label"
   ]
  },
  {
   "cell_type": "code",
   "execution_count": 8,
   "id": "6a087de9",
   "metadata": {
    "execution": {
     "iopub.execute_input": "2024-09-05T07:26:08.561155Z",
     "iopub.status.busy": "2024-09-05T07:26:08.560711Z",
     "iopub.status.idle": "2024-09-05T07:26:08.589702Z",
     "shell.execute_reply": "2024-09-05T07:26:08.588704Z"
    },
    "papermill": {
     "duration": 0.055909,
     "end_time": "2024-09-05T07:26:08.592155",
     "exception": false,
     "start_time": "2024-09-05T07:26:08.536246",
     "status": "completed"
    },
    "tags": []
   },
   "outputs": [
    {
     "data": {
      "text/html": [
       "<div>\n",
       "<style scoped>\n",
       "    .dataframe tbody tr th:only-of-type {\n",
       "        vertical-align: middle;\n",
       "    }\n",
       "\n",
       "    .dataframe tbody tr th {\n",
       "        vertical-align: top;\n",
       "    }\n",
       "\n",
       "    .dataframe thead th {\n",
       "        text-align: right;\n",
       "    }\n",
       "</style>\n",
       "<table border=\"1\" class=\"dataframe\">\n",
       "  <thead>\n",
       "    <tr style=\"text-align: right;\">\n",
       "      <th></th>\n",
       "      <th>pixel0</th>\n",
       "      <th>pixel1</th>\n",
       "      <th>pixel2</th>\n",
       "      <th>pixel3</th>\n",
       "      <th>pixel4</th>\n",
       "      <th>pixel5</th>\n",
       "      <th>pixel6</th>\n",
       "      <th>pixel7</th>\n",
       "      <th>pixel8</th>\n",
       "      <th>pixel9</th>\n",
       "      <th>...</th>\n",
       "      <th>pixel774</th>\n",
       "      <th>pixel775</th>\n",
       "      <th>pixel776</th>\n",
       "      <th>pixel777</th>\n",
       "      <th>pixel778</th>\n",
       "      <th>pixel779</th>\n",
       "      <th>pixel780</th>\n",
       "      <th>pixel781</th>\n",
       "      <th>pixel782</th>\n",
       "      <th>pixel783</th>\n",
       "    </tr>\n",
       "  </thead>\n",
       "  <tbody>\n",
       "    <tr>\n",
       "      <th>0</th>\n",
       "      <td>0</td>\n",
       "      <td>0</td>\n",
       "      <td>0</td>\n",
       "      <td>0</td>\n",
       "      <td>0</td>\n",
       "      <td>0</td>\n",
       "      <td>0</td>\n",
       "      <td>0</td>\n",
       "      <td>0</td>\n",
       "      <td>0</td>\n",
       "      <td>...</td>\n",
       "      <td>0</td>\n",
       "      <td>0</td>\n",
       "      <td>0</td>\n",
       "      <td>0</td>\n",
       "      <td>0</td>\n",
       "      <td>0</td>\n",
       "      <td>0</td>\n",
       "      <td>0</td>\n",
       "      <td>0</td>\n",
       "      <td>0</td>\n",
       "    </tr>\n",
       "    <tr>\n",
       "      <th>1</th>\n",
       "      <td>0</td>\n",
       "      <td>0</td>\n",
       "      <td>0</td>\n",
       "      <td>0</td>\n",
       "      <td>0</td>\n",
       "      <td>0</td>\n",
       "      <td>0</td>\n",
       "      <td>0</td>\n",
       "      <td>0</td>\n",
       "      <td>0</td>\n",
       "      <td>...</td>\n",
       "      <td>0</td>\n",
       "      <td>0</td>\n",
       "      <td>0</td>\n",
       "      <td>0</td>\n",
       "      <td>0</td>\n",
       "      <td>0</td>\n",
       "      <td>0</td>\n",
       "      <td>0</td>\n",
       "      <td>0</td>\n",
       "      <td>0</td>\n",
       "    </tr>\n",
       "    <tr>\n",
       "      <th>2</th>\n",
       "      <td>0</td>\n",
       "      <td>0</td>\n",
       "      <td>0</td>\n",
       "      <td>0</td>\n",
       "      <td>0</td>\n",
       "      <td>0</td>\n",
       "      <td>0</td>\n",
       "      <td>0</td>\n",
       "      <td>0</td>\n",
       "      <td>0</td>\n",
       "      <td>...</td>\n",
       "      <td>0</td>\n",
       "      <td>0</td>\n",
       "      <td>0</td>\n",
       "      <td>0</td>\n",
       "      <td>0</td>\n",
       "      <td>0</td>\n",
       "      <td>0</td>\n",
       "      <td>0</td>\n",
       "      <td>0</td>\n",
       "      <td>0</td>\n",
       "    </tr>\n",
       "    <tr>\n",
       "      <th>3</th>\n",
       "      <td>0</td>\n",
       "      <td>0</td>\n",
       "      <td>0</td>\n",
       "      <td>0</td>\n",
       "      <td>0</td>\n",
       "      <td>0</td>\n",
       "      <td>0</td>\n",
       "      <td>0</td>\n",
       "      <td>0</td>\n",
       "      <td>0</td>\n",
       "      <td>...</td>\n",
       "      <td>0</td>\n",
       "      <td>0</td>\n",
       "      <td>0</td>\n",
       "      <td>0</td>\n",
       "      <td>0</td>\n",
       "      <td>0</td>\n",
       "      <td>0</td>\n",
       "      <td>0</td>\n",
       "      <td>0</td>\n",
       "      <td>0</td>\n",
       "    </tr>\n",
       "    <tr>\n",
       "      <th>4</th>\n",
       "      <td>0</td>\n",
       "      <td>0</td>\n",
       "      <td>0</td>\n",
       "      <td>0</td>\n",
       "      <td>0</td>\n",
       "      <td>0</td>\n",
       "      <td>0</td>\n",
       "      <td>0</td>\n",
       "      <td>0</td>\n",
       "      <td>0</td>\n",
       "      <td>...</td>\n",
       "      <td>0</td>\n",
       "      <td>0</td>\n",
       "      <td>0</td>\n",
       "      <td>0</td>\n",
       "      <td>0</td>\n",
       "      <td>0</td>\n",
       "      <td>0</td>\n",
       "      <td>0</td>\n",
       "      <td>0</td>\n",
       "      <td>0</td>\n",
       "    </tr>\n",
       "    <tr>\n",
       "      <th>...</th>\n",
       "      <td>...</td>\n",
       "      <td>...</td>\n",
       "      <td>...</td>\n",
       "      <td>...</td>\n",
       "      <td>...</td>\n",
       "      <td>...</td>\n",
       "      <td>...</td>\n",
       "      <td>...</td>\n",
       "      <td>...</td>\n",
       "      <td>...</td>\n",
       "      <td>...</td>\n",
       "      <td>...</td>\n",
       "      <td>...</td>\n",
       "      <td>...</td>\n",
       "      <td>...</td>\n",
       "      <td>...</td>\n",
       "      <td>...</td>\n",
       "      <td>...</td>\n",
       "      <td>...</td>\n",
       "      <td>...</td>\n",
       "      <td>...</td>\n",
       "    </tr>\n",
       "    <tr>\n",
       "      <th>41995</th>\n",
       "      <td>0</td>\n",
       "      <td>0</td>\n",
       "      <td>0</td>\n",
       "      <td>0</td>\n",
       "      <td>0</td>\n",
       "      <td>0</td>\n",
       "      <td>0</td>\n",
       "      <td>0</td>\n",
       "      <td>0</td>\n",
       "      <td>0</td>\n",
       "      <td>...</td>\n",
       "      <td>0</td>\n",
       "      <td>0</td>\n",
       "      <td>0</td>\n",
       "      <td>0</td>\n",
       "      <td>0</td>\n",
       "      <td>0</td>\n",
       "      <td>0</td>\n",
       "      <td>0</td>\n",
       "      <td>0</td>\n",
       "      <td>0</td>\n",
       "    </tr>\n",
       "    <tr>\n",
       "      <th>41996</th>\n",
       "      <td>0</td>\n",
       "      <td>0</td>\n",
       "      <td>0</td>\n",
       "      <td>0</td>\n",
       "      <td>0</td>\n",
       "      <td>0</td>\n",
       "      <td>0</td>\n",
       "      <td>0</td>\n",
       "      <td>0</td>\n",
       "      <td>0</td>\n",
       "      <td>...</td>\n",
       "      <td>0</td>\n",
       "      <td>0</td>\n",
       "      <td>0</td>\n",
       "      <td>0</td>\n",
       "      <td>0</td>\n",
       "      <td>0</td>\n",
       "      <td>0</td>\n",
       "      <td>0</td>\n",
       "      <td>0</td>\n",
       "      <td>0</td>\n",
       "    </tr>\n",
       "    <tr>\n",
       "      <th>41997</th>\n",
       "      <td>0</td>\n",
       "      <td>0</td>\n",
       "      <td>0</td>\n",
       "      <td>0</td>\n",
       "      <td>0</td>\n",
       "      <td>0</td>\n",
       "      <td>0</td>\n",
       "      <td>0</td>\n",
       "      <td>0</td>\n",
       "      <td>0</td>\n",
       "      <td>...</td>\n",
       "      <td>0</td>\n",
       "      <td>0</td>\n",
       "      <td>0</td>\n",
       "      <td>0</td>\n",
       "      <td>0</td>\n",
       "      <td>0</td>\n",
       "      <td>0</td>\n",
       "      <td>0</td>\n",
       "      <td>0</td>\n",
       "      <td>0</td>\n",
       "    </tr>\n",
       "    <tr>\n",
       "      <th>41998</th>\n",
       "      <td>0</td>\n",
       "      <td>0</td>\n",
       "      <td>0</td>\n",
       "      <td>0</td>\n",
       "      <td>0</td>\n",
       "      <td>0</td>\n",
       "      <td>0</td>\n",
       "      <td>0</td>\n",
       "      <td>0</td>\n",
       "      <td>0</td>\n",
       "      <td>...</td>\n",
       "      <td>0</td>\n",
       "      <td>0</td>\n",
       "      <td>0</td>\n",
       "      <td>0</td>\n",
       "      <td>0</td>\n",
       "      <td>0</td>\n",
       "      <td>0</td>\n",
       "      <td>0</td>\n",
       "      <td>0</td>\n",
       "      <td>0</td>\n",
       "    </tr>\n",
       "    <tr>\n",
       "      <th>41999</th>\n",
       "      <td>0</td>\n",
       "      <td>0</td>\n",
       "      <td>0</td>\n",
       "      <td>0</td>\n",
       "      <td>0</td>\n",
       "      <td>0</td>\n",
       "      <td>0</td>\n",
       "      <td>0</td>\n",
       "      <td>0</td>\n",
       "      <td>0</td>\n",
       "      <td>...</td>\n",
       "      <td>0</td>\n",
       "      <td>0</td>\n",
       "      <td>0</td>\n",
       "      <td>0</td>\n",
       "      <td>0</td>\n",
       "      <td>0</td>\n",
       "      <td>0</td>\n",
       "      <td>0</td>\n",
       "      <td>0</td>\n",
       "      <td>0</td>\n",
       "    </tr>\n",
       "  </tbody>\n",
       "</table>\n",
       "<p>42000 rows × 784 columns</p>\n",
       "</div>"
      ],
      "text/plain": [
       "       pixel0  pixel1  pixel2  pixel3  pixel4  pixel5  pixel6  pixel7  pixel8  \\\n",
       "0           0       0       0       0       0       0       0       0       0   \n",
       "1           0       0       0       0       0       0       0       0       0   \n",
       "2           0       0       0       0       0       0       0       0       0   \n",
       "3           0       0       0       0       0       0       0       0       0   \n",
       "4           0       0       0       0       0       0       0       0       0   \n",
       "...       ...     ...     ...     ...     ...     ...     ...     ...     ...   \n",
       "41995       0       0       0       0       0       0       0       0       0   \n",
       "41996       0       0       0       0       0       0       0       0       0   \n",
       "41997       0       0       0       0       0       0       0       0       0   \n",
       "41998       0       0       0       0       0       0       0       0       0   \n",
       "41999       0       0       0       0       0       0       0       0       0   \n",
       "\n",
       "       pixel9  ...  pixel774  pixel775  pixel776  pixel777  pixel778  \\\n",
       "0           0  ...         0         0         0         0         0   \n",
       "1           0  ...         0         0         0         0         0   \n",
       "2           0  ...         0         0         0         0         0   \n",
       "3           0  ...         0         0         0         0         0   \n",
       "4           0  ...         0         0         0         0         0   \n",
       "...       ...  ...       ...       ...       ...       ...       ...   \n",
       "41995       0  ...         0         0         0         0         0   \n",
       "41996       0  ...         0         0         0         0         0   \n",
       "41997       0  ...         0         0         0         0         0   \n",
       "41998       0  ...         0         0         0         0         0   \n",
       "41999       0  ...         0         0         0         0         0   \n",
       "\n",
       "       pixel779  pixel780  pixel781  pixel782  pixel783  \n",
       "0             0         0         0         0         0  \n",
       "1             0         0         0         0         0  \n",
       "2             0         0         0         0         0  \n",
       "3             0         0         0         0         0  \n",
       "4             0         0         0         0         0  \n",
       "...         ...       ...       ...       ...       ...  \n",
       "41995         0         0         0         0         0  \n",
       "41996         0         0         0         0         0  \n",
       "41997         0         0         0         0         0  \n",
       "41998         0         0         0         0         0  \n",
       "41999         0         0         0         0         0  \n",
       "\n",
       "[42000 rows x 784 columns]"
      ]
     },
     "execution_count": 8,
     "metadata": {},
     "output_type": "execute_result"
    }
   ],
   "source": [
    "train_data"
   ]
  },
  {
   "cell_type": "code",
   "execution_count": 9,
   "id": "a1371ef2",
   "metadata": {
    "execution": {
     "iopub.execute_input": "2024-09-05T07:26:08.613955Z",
     "iopub.status.busy": "2024-09-05T07:26:08.613183Z",
     "iopub.status.idle": "2024-09-05T07:26:08.622220Z",
     "shell.execute_reply": "2024-09-05T07:26:08.621203Z"
    },
    "papermill": {
     "duration": 0.022527,
     "end_time": "2024-09-05T07:26:08.624435",
     "exception": false,
     "start_time": "2024-09-05T07:26:08.601908",
     "status": "completed"
    },
    "tags": []
   },
   "outputs": [
    {
     "data": {
      "text/plain": [
       "(37800, 4200, 37800, 4200)"
      ]
     },
     "execution_count": 9,
     "metadata": {},
     "output_type": "execute_result"
    }
   ],
   "source": [
    "valid_ratio = 0.1\n",
    "split_idx = int(len(train_data)*(1.0-valid_ratio))\n",
    "\n",
    "valid_data = train_data[split_idx:]\n",
    "train_data = train_data[:split_idx]\n",
    "\n",
    "valid_label = train_label[split_idx:]\n",
    "train_label = train_label[:split_idx]\n",
    "\n",
    "len(train_data), len(valid_data), len(train_label), len(valid_label)"
   ]
  },
  {
   "cell_type": "code",
   "execution_count": 10,
   "id": "6c907a15",
   "metadata": {
    "execution": {
     "iopub.execute_input": "2024-09-05T07:26:08.645746Z",
     "iopub.status.busy": "2024-09-05T07:26:08.645375Z",
     "iopub.status.idle": "2024-09-05T07:26:08.777658Z",
     "shell.execute_reply": "2024-09-05T07:26:08.776469Z"
    },
    "papermill": {
     "duration": 0.145968,
     "end_time": "2024-09-05T07:26:08.780369",
     "exception": false,
     "start_time": "2024-09-05T07:26:08.634401",
     "status": "completed"
    },
    "tags": []
   },
   "outputs": [],
   "source": [
    "train_data = torch.tensor(train_data.values, dtype=torch.float32).reshape(-1,28,28)\n",
    "valid_data = torch.tensor(valid_data.values, dtype=torch.float32).reshape(-1,28,28)\n",
    "\n",
    "train_label = torch.tensor(train_label.values)\n",
    "valid_label = torch.tensor(valid_label.values)\n",
    "\n",
    "test_data = torch.tensor(test_data.values, dtype=torch.float32).reshape(-1,28,28)"
   ]
  },
  {
   "cell_type": "code",
   "execution_count": 11,
   "id": "62cc1778",
   "metadata": {
    "execution": {
     "iopub.execute_input": "2024-09-05T07:26:08.803958Z",
     "iopub.status.busy": "2024-09-05T07:26:08.803519Z",
     "iopub.status.idle": "2024-09-05T07:26:08.809797Z",
     "shell.execute_reply": "2024-09-05T07:26:08.808789Z"
    },
    "papermill": {
     "duration": 0.02006,
     "end_time": "2024-09-05T07:26:08.812130",
     "exception": false,
     "start_time": "2024-09-05T07:26:08.792070",
     "status": "completed"
    },
    "tags": []
   },
   "outputs": [],
   "source": [
    "train_dataset = TensorDataset(train_data, train_label)\n",
    "valid_dataset = TensorDataset(valid_data, valid_label)\n",
    "test_dataset = TensorDataset(test_data)"
   ]
  },
  {
   "cell_type": "code",
   "execution_count": 12,
   "id": "f41f8bf6",
   "metadata": {
    "execution": {
     "iopub.execute_input": "2024-09-05T07:26:08.834632Z",
     "iopub.status.busy": "2024-09-05T07:26:08.834204Z",
     "iopub.status.idle": "2024-09-05T07:26:08.840214Z",
     "shell.execute_reply": "2024-09-05T07:26:08.839201Z"
    },
    "papermill": {
     "duration": 0.019748,
     "end_time": "2024-09-05T07:26:08.842400",
     "exception": false,
     "start_time": "2024-09-05T07:26:08.822652",
     "status": "completed"
    },
    "tags": []
   },
   "outputs": [],
   "source": [
    "train_loader = DataLoader(train_dataset, batch_size=args['batch_size'], shuffle=True)\n",
    "valid_loader = DataLoader(valid_dataset, batch_size=args['batch_size'], shuffle=True)\n",
    "test_loader = DataLoader(test_dataset, batch_size=len(test_dataset), shuffle=False)"
   ]
  },
  {
   "cell_type": "code",
   "execution_count": 13,
   "id": "2f392f38",
   "metadata": {
    "execution": {
     "iopub.execute_input": "2024-09-05T07:26:08.864489Z",
     "iopub.status.busy": "2024-09-05T07:26:08.864084Z",
     "iopub.status.idle": "2024-09-05T07:26:08.918078Z",
     "shell.execute_reply": "2024-09-05T07:26:08.916952Z"
    },
    "papermill": {
     "duration": 0.067698,
     "end_time": "2024-09-05T07:26:08.920456",
     "exception": false,
     "start_time": "2024-09-05T07:26:08.852758",
     "status": "completed"
    },
    "tags": []
   },
   "outputs": [
    {
     "name": "stdout",
     "output_type": "stream",
     "text": [
      "torch.Size([256, 28, 28]) torch.Size([256])\n"
     ]
    }
   ],
   "source": [
    "for train_sample in train_loader:\n",
    "    print(train_sample[0].shape, train_sample[1].shape)\n",
    "    break"
   ]
  },
  {
   "cell_type": "markdown",
   "id": "38baf9f3",
   "metadata": {
    "papermill": {
     "duration": 0.010158,
     "end_time": "2024-09-05T07:26:08.940692",
     "exception": false,
     "start_time": "2024-09-05T07:26:08.930534",
     "status": "completed"
    },
    "tags": []
   },
   "source": [
    "# model definition"
   ]
  },
  {
   "cell_type": "code",
   "execution_count": 14,
   "id": "7586e625",
   "metadata": {
    "execution": {
     "iopub.execute_input": "2024-09-05T07:26:08.962866Z",
     "iopub.status.busy": "2024-09-05T07:26:08.962411Z",
     "iopub.status.idle": "2024-09-05T07:26:08.974769Z",
     "shell.execute_reply": "2024-09-05T07:26:08.973688Z"
    },
    "papermill": {
     "duration": 0.026167,
     "end_time": "2024-09-05T07:26:08.977078",
     "exception": false,
     "start_time": "2024-09-05T07:26:08.950911",
     "status": "completed"
    },
    "tags": []
   },
   "outputs": [],
   "source": [
    "class Model(nn.Module):\n",
    "    def __init__(self, num_classes):\n",
    "        super(Model, self).__init__()\n",
    "        \"\"\"\n",
    "        input shape : batch * 28 * 28\n",
    "        \"\"\"\n",
    "        \n",
    "        self.features = nn.Sequential(\n",
    "            # 28 -> 14 / default stride = 1\n",
    "            nn.Conv2d(in_channels=1, out_channels=32, kernel_size=3, padding=1),\n",
    "            nn.Conv2d(in_channels=32 ,out_channels=32, kernel_size=3, padding=1),\n",
    "            nn.BatchNorm2d(32),\n",
    "            nn.ReLU(),\n",
    "            nn.MaxPool2d(kernel_size=2, stride=2),\n",
    "            \n",
    "            # 14 -> 7\n",
    "            nn.Conv2d(in_channels=32, out_channels=64, kernel_size=3, padding=1),\n",
    "            nn.Conv2d(in_channels=64 ,out_channels=64, kernel_size=3, padding=1),\n",
    "            nn.BatchNorm2d(64),\n",
    "            nn.ReLU(),\n",
    "            nn.MaxPool2d(kernel_size=2, stride=2),\n",
    "            \n",
    "            # 7 -> 2\n",
    "            nn.Conv2d(in_channels=64, out_channels=128, kernel_size=3, padding=1),\n",
    "            nn.Conv2d(in_channels=128 ,out_channels=128, kernel_size=3, padding=1),\n",
    "            nn.BatchNorm2d(128),\n",
    "            nn.ReLU(),\n",
    "            nn.MaxPool2d(kernel_size=3, stride=2)\n",
    "        )\n",
    "        \n",
    "        self.classifier = nn.Sequential(\n",
    "            nn.AdaptiveAvgPool2d((1,1)),\n",
    "            nn.Flatten(),\n",
    "            nn.Linear(128,num_classes)\n",
    "        )\n",
    "        \n",
    "    def __call__(self, x):\n",
    "        x=x.unsqueeze(1)\n",
    "        x = self.features(x)\n",
    "        x = self.classifier(x)\n",
    "        return x"
   ]
  },
  {
   "cell_type": "code",
   "execution_count": 15,
   "id": "90de64a6",
   "metadata": {
    "execution": {
     "iopub.execute_input": "2024-09-05T07:26:09.000418Z",
     "iopub.status.busy": "2024-09-05T07:26:08.999461Z",
     "iopub.status.idle": "2024-09-05T07:26:09.147105Z",
     "shell.execute_reply": "2024-09-05T07:26:09.145970Z"
    },
    "papermill": {
     "duration": 0.161958,
     "end_time": "2024-09-05T07:26:09.149624",
     "exception": false,
     "start_time": "2024-09-05T07:26:08.987666",
     "status": "completed"
    },
    "tags": []
   },
   "outputs": [
    {
     "data": {
      "text/plain": [
       "==========================================================================================\n",
       "Layer (type:depth-idx)                   Output Shape              Param #\n",
       "==========================================================================================\n",
       "├─Sequential: 1-1                        [20, 128, 3, 3]           --\n",
       "│    └─Conv2d: 2-1                       [20, 32, 28, 28]          320\n",
       "│    └─Conv2d: 2-2                       [20, 32, 28, 28]          9,248\n",
       "│    └─BatchNorm2d: 2-3                  [20, 32, 28, 28]          64\n",
       "│    └─ReLU: 2-4                         [20, 32, 28, 28]          --\n",
       "│    └─MaxPool2d: 2-5                    [20, 32, 14, 14]          --\n",
       "│    └─Conv2d: 2-6                       [20, 64, 14, 14]          18,496\n",
       "│    └─Conv2d: 2-7                       [20, 64, 14, 14]          36,928\n",
       "│    └─BatchNorm2d: 2-8                  [20, 64, 14, 14]          128\n",
       "│    └─ReLU: 2-9                         [20, 64, 14, 14]          --\n",
       "│    └─MaxPool2d: 2-10                   [20, 64, 7, 7]            --\n",
       "│    └─Conv2d: 2-11                      [20, 128, 7, 7]           73,856\n",
       "│    └─Conv2d: 2-12                      [20, 128, 7, 7]           147,584\n",
       "│    └─BatchNorm2d: 2-13                 [20, 128, 7, 7]           256\n",
       "│    └─ReLU: 2-14                        [20, 128, 7, 7]           --\n",
       "│    └─MaxPool2d: 2-15                   [20, 128, 3, 3]           --\n",
       "├─Sequential: 1-2                        [20, 10]                  --\n",
       "│    └─AdaptiveAvgPool2d: 2-16           [20, 128, 1, 1]           --\n",
       "│    └─Flatten: 2-17                     [20, 128]                 --\n",
       "│    └─Linear: 2-18                      [20, 10]                  1,290\n",
       "==========================================================================================\n",
       "Total params: 288,170\n",
       "Trainable params: 288,170\n",
       "Non-trainable params: 0\n",
       "Total mult-adds (M): 584.33\n",
       "==========================================================================================\n",
       "Input size (MB): 0.06\n",
       "Forward/backward pass size (MB): 21.08\n",
       "Params size (MB): 1.15\n",
       "Estimated Total Size (MB): 22.29\n",
       "=========================================================================================="
      ]
     },
     "execution_count": 15,
     "metadata": {},
     "output_type": "execute_result"
    }
   ],
   "source": [
    "model = Model(num_classes=10)\n",
    "\n",
    "summary(model, (20,28,28))"
   ]
  },
  {
   "cell_type": "markdown",
   "id": "71d8f40c",
   "metadata": {
    "papermill": {
     "duration": 0.010283,
     "end_time": "2024-09-05T07:26:09.170486",
     "exception": false,
     "start_time": "2024-09-05T07:26:09.160203",
     "status": "completed"
    },
    "tags": []
   },
   "source": [
    "# Training"
   ]
  },
  {
   "cell_type": "code",
   "execution_count": 16,
   "id": "024f0257",
   "metadata": {
    "execution": {
     "iopub.execute_input": "2024-09-05T07:26:09.193058Z",
     "iopub.status.busy": "2024-09-05T07:26:09.192629Z",
     "iopub.status.idle": "2024-09-05T07:26:10.603159Z",
     "shell.execute_reply": "2024-09-05T07:26:10.602262Z"
    },
    "papermill": {
     "duration": 1.425052,
     "end_time": "2024-09-05T07:26:10.605873",
     "exception": false,
     "start_time": "2024-09-05T07:26:09.180821",
     "status": "completed"
    },
    "tags": []
   },
   "outputs": [],
   "source": [
    "num_epochs = args['epochs']\n",
    "optimizer = torch.optim.Adam(params=model.parameters(), lr=args['lr'], weight_decay=0.1)\n",
    "loss_fn = torch.nn.CrossEntropyLoss()"
   ]
  },
  {
   "cell_type": "code",
   "execution_count": 17,
   "id": "1accdeb6",
   "metadata": {
    "execution": {
     "iopub.execute_input": "2024-09-05T07:26:10.629110Z",
     "iopub.status.busy": "2024-09-05T07:26:10.628166Z",
     "iopub.status.idle": "2024-09-05T08:28:50.767492Z",
     "shell.execute_reply": "2024-09-05T08:28:50.766363Z"
    },
    "papermill": {
     "duration": 3760.153744,
     "end_time": "2024-09-05T08:28:50.770132",
     "exception": false,
     "start_time": "2024-09-05T07:26:10.616388",
     "status": "completed"
    },
    "tags": []
   },
   "outputs": [
    {
     "name": "stderr",
     "output_type": "stream",
     "text": [
      "100%|██████████| 148/148 [01:25<00:00,  1.73it/s]\n",
      "100%|██████████| 17/17 [00:03<00:00,  4.98it/s]\n"
     ]
    },
    {
     "name": "stdout",
     "output_type": "stream",
     "text": [
      "epoch:1\n",
      "train_loss: 0.0066209500996524066, train_acc: 0.5774867724867725\n",
      "valid_loss: 0.004582509625525702, valid_acc: 0.844047619047619\n"
     ]
    },
    {
     "name": "stderr",
     "output_type": "stream",
     "text": [
      "100%|██████████| 148/148 [01:26<00:00,  1.71it/s]\n",
      "100%|██████████| 17/17 [00:03<00:00,  4.94it/s]\n"
     ]
    },
    {
     "name": "stdout",
     "output_type": "stream",
     "text": [
      "epoch:2\n",
      "train_loss: 0.0031953220834177007, train_acc: 0.9033068783068783\n",
      "valid_loss: 0.002457189488978613, valid_acc: 0.9226190476190477\n"
     ]
    },
    {
     "name": "stderr",
     "output_type": "stream",
     "text": [
      "100%|██████████| 148/148 [01:24<00:00,  1.76it/s]\n",
      "100%|██████████| 17/17 [00:03<00:00,  4.99it/s]\n"
     ]
    },
    {
     "name": "stdout",
     "output_type": "stream",
     "text": [
      "epoch:3\n",
      "train_loss: 0.0018583599071969432, train_acc: 0.9454232804232804\n",
      "valid_loss: 0.0016241675473394849, valid_acc: 0.9528571428571428\n"
     ]
    },
    {
     "name": "stderr",
     "output_type": "stream",
     "text": [
      "100%|██████████| 148/148 [01:28<00:00,  1.67it/s]\n",
      "100%|██████████| 17/17 [00:03<00:00,  4.53it/s]\n"
     ]
    },
    {
     "name": "stdout",
     "output_type": "stream",
     "text": [
      "epoch:4\n",
      "train_loss: 0.0012718890749272847, train_acc: 0.9604232804232804\n",
      "valid_loss: 0.0011938683936993282, valid_acc: 0.9638095238095238\n"
     ]
    },
    {
     "name": "stderr",
     "output_type": "stream",
     "text": [
      "100%|██████████| 148/148 [01:27<00:00,  1.70it/s]\n",
      "100%|██████████| 17/17 [00:03<00:00,  5.09it/s]\n"
     ]
    },
    {
     "name": "stdout",
     "output_type": "stream",
     "text": [
      "epoch:5\n",
      "train_loss: 0.0009485161064005402, train_acc: 0.968042328042328\n",
      "valid_loss: 0.0009442441094489325, valid_acc: 0.9671428571428572\n"
     ]
    },
    {
     "name": "stderr",
     "output_type": "stream",
     "text": [
      "100%|██████████| 148/148 [01:27<00:00,  1.70it/s]\n",
      "100%|██████████| 17/17 [00:03<00:00,  4.97it/s]\n"
     ]
    },
    {
     "name": "stdout",
     "output_type": "stream",
     "text": [
      "epoch:6\n",
      "train_loss: 0.0007505769523047896, train_acc: 0.9731746031746031\n",
      "valid_loss: 0.0007978929721173786, valid_acc: 0.9707142857142858\n"
     ]
    },
    {
     "name": "stderr",
     "output_type": "stream",
     "text": [
      "100%|██████████| 148/148 [01:27<00:00,  1.68it/s]\n",
      "100%|██████████| 17/17 [00:03<00:00,  4.97it/s]\n"
     ]
    },
    {
     "name": "stdout",
     "output_type": "stream",
     "text": [
      "epoch:7\n",
      "train_loss: 0.0006199149809107578, train_acc: 0.9768783068783069\n",
      "valid_loss: 0.0006899698646295638, valid_acc: 0.9716666666666667\n"
     ]
    },
    {
     "name": "stderr",
     "output_type": "stream",
     "text": [
      "100%|██████████| 148/148 [01:24<00:00,  1.76it/s]\n",
      "100%|██████████| 17/17 [00:03<00:00,  5.14it/s]\n"
     ]
    },
    {
     "name": "stdout",
     "output_type": "stream",
     "text": [
      "epoch:8\n",
      "train_loss: 0.0005239434711753376, train_acc: 0.9799735449735449\n",
      "valid_loss: 0.0005646187847568875, valid_acc: 0.9754761904761905\n"
     ]
    },
    {
     "name": "stderr",
     "output_type": "stream",
     "text": [
      "100%|██████████| 148/148 [01:26<00:00,  1.71it/s]\n",
      "100%|██████████| 17/17 [00:03<00:00,  4.77it/s]\n"
     ]
    },
    {
     "name": "stdout",
     "output_type": "stream",
     "text": [
      "epoch:9\n",
      "train_loss: 0.0004534153898478185, train_acc: 0.9828042328042328\n",
      "valid_loss: 0.0005155028225410553, valid_acc: 0.9771428571428571\n"
     ]
    },
    {
     "name": "stderr",
     "output_type": "stream",
     "text": [
      "100%|██████████| 148/148 [01:26<00:00,  1.71it/s]\n",
      "100%|██████████| 17/17 [00:03<00:00,  4.99it/s]\n"
     ]
    },
    {
     "name": "stdout",
     "output_type": "stream",
     "text": [
      "epoch:10\n",
      "train_loss: 0.0003990788925340567, train_acc: 0.9845767195767196\n",
      "valid_loss: 0.0004379579442597571, valid_acc: 0.9811904761904762\n"
     ]
    },
    {
     "name": "stderr",
     "output_type": "stream",
     "text": [
      "100%|██████████| 148/148 [01:26<00:00,  1.70it/s]\n",
      "100%|██████████| 17/17 [00:03<00:00,  4.83it/s]\n"
     ]
    },
    {
     "name": "stdout",
     "output_type": "stream",
     "text": [
      "epoch:11\n",
      "train_loss: 0.00035870545706342136, train_acc: 0.9863227513227513\n",
      "valid_loss: 0.00042332977056503296, valid_acc: 0.9845238095238096\n"
     ]
    },
    {
     "name": "stderr",
     "output_type": "stream",
     "text": [
      "100%|██████████| 148/148 [01:28<00:00,  1.67it/s]\n",
      "100%|██████████| 17/17 [00:03<00:00,  4.86it/s]\n"
     ]
    },
    {
     "name": "stdout",
     "output_type": "stream",
     "text": [
      "epoch:12\n",
      "train_loss: 0.0003272985636438958, train_acc: 0.9875132275132276\n",
      "valid_loss: 0.0003980191974412827, valid_acc: 0.9821428571428571\n"
     ]
    },
    {
     "name": "stderr",
     "output_type": "stream",
     "text": [
      "100%|██████████| 148/148 [01:29<00:00,  1.65it/s]\n",
      "100%|██████████| 17/17 [00:03<00:00,  4.89it/s]\n"
     ]
    },
    {
     "name": "stdout",
     "output_type": "stream",
     "text": [
      "epoch:13\n",
      "train_loss: 0.00030165065947190795, train_acc: 0.9889417989417989\n",
      "valid_loss: 0.0003645523513356845, valid_acc: 0.986904761904762\n"
     ]
    },
    {
     "name": "stderr",
     "output_type": "stream",
     "text": [
      "100%|██████████| 148/148 [01:28<00:00,  1.68it/s]\n",
      "100%|██████████| 17/17 [00:03<00:00,  4.89it/s]\n"
     ]
    },
    {
     "name": "stdout",
     "output_type": "stream",
     "text": [
      "epoch:14\n",
      "train_loss: 0.000280550270779896, train_acc: 0.99\n",
      "valid_loss: 0.0003801583002010981, valid_acc: 0.9847619047619047\n"
     ]
    },
    {
     "name": "stderr",
     "output_type": "stream",
     "text": [
      "100%|██████████| 148/148 [01:27<00:00,  1.70it/s]\n",
      "100%|██████████| 17/17 [00:03<00:00,  4.82it/s]\n"
     ]
    },
    {
     "name": "stdout",
     "output_type": "stream",
     "text": [
      "epoch:15\n",
      "train_loss: 0.00026649966037699155, train_acc: 0.9907142857142858\n",
      "valid_loss: 0.0003179731583666234, valid_acc: 0.9876190476190476\n"
     ]
    },
    {
     "name": "stderr",
     "output_type": "stream",
     "text": [
      "100%|██████████| 148/148 [01:29<00:00,  1.66it/s]\n",
      "100%|██████████| 17/17 [00:03<00:00,  4.69it/s]\n"
     ]
    },
    {
     "name": "stdout",
     "output_type": "stream",
     "text": [
      "epoch:16\n",
      "train_loss: 0.0002572956940445004, train_acc: 0.9910582010582011\n",
      "valid_loss: 0.000316770098926056, valid_acc: 0.9885714285714285\n"
     ]
    },
    {
     "name": "stderr",
     "output_type": "stream",
     "text": [
      "100%|██████████| 148/148 [01:30<00:00,  1.64it/s]\n",
      "100%|██████████| 17/17 [00:04<00:00,  3.78it/s]\n"
     ]
    },
    {
     "name": "stdout",
     "output_type": "stream",
     "text": [
      "epoch:17\n",
      "train_loss: 0.00025251929239227027, train_acc: 0.9911904761904762\n",
      "valid_loss: 0.00040304019515003477, valid_acc: 0.9838095238095238\n"
     ]
    },
    {
     "name": "stderr",
     "output_type": "stream",
     "text": [
      "100%|██████████| 148/148 [01:27<00:00,  1.69it/s]\n",
      "100%|██████████| 17/17 [00:03<00:00,  4.99it/s]\n"
     ]
    },
    {
     "name": "stdout",
     "output_type": "stream",
     "text": [
      "epoch:18\n",
      "train_loss: 0.0002465498636639307, train_acc: 0.9917724867724867\n",
      "valid_loss: 0.00034240680791082837, valid_acc: 0.9871428571428571\n"
     ]
    },
    {
     "name": "stderr",
     "output_type": "stream",
     "text": [
      "100%|██████████| 148/148 [01:26<00:00,  1.72it/s]\n",
      "100%|██████████| 17/17 [00:03<00:00,  5.05it/s]\n"
     ]
    },
    {
     "name": "stdout",
     "output_type": "stream",
     "text": [
      "epoch:19\n",
      "train_loss: 0.00024437662765935616, train_acc: 0.991904761904762\n",
      "valid_loss: 0.00031852759066082183, valid_acc: 0.9864285714285714\n"
     ]
    },
    {
     "name": "stderr",
     "output_type": "stream",
     "text": [
      "100%|██████████| 148/148 [01:27<00:00,  1.70it/s]\n",
      "100%|██████████| 17/17 [00:03<00:00,  5.14it/s]\n"
     ]
    },
    {
     "name": "stdout",
     "output_type": "stream",
     "text": [
      "epoch:20\n",
      "train_loss: 0.00024084513267827413, train_acc: 0.9925132275132275\n",
      "valid_loss: 0.0003162540078517937, valid_acc: 0.9890476190476191\n"
     ]
    },
    {
     "name": "stderr",
     "output_type": "stream",
     "text": [
      "100%|██████████| 148/148 [01:25<00:00,  1.73it/s]\n",
      "100%|██████████| 17/17 [00:03<00:00,  5.06it/s]\n"
     ]
    },
    {
     "name": "stdout",
     "output_type": "stream",
     "text": [
      "epoch:21\n",
      "train_loss: 0.00023886279217780583, train_acc: 0.992989417989418\n",
      "valid_loss: 0.00035342854758103686, valid_acc: 0.9866666666666667\n"
     ]
    },
    {
     "name": "stderr",
     "output_type": "stream",
     "text": [
      "100%|██████████| 148/148 [01:24<00:00,  1.75it/s]\n",
      "100%|██████████| 17/17 [00:04<00:00,  4.01it/s]\n"
     ]
    },
    {
     "name": "stdout",
     "output_type": "stream",
     "text": [
      "epoch:22\n",
      "train_loss: 0.00024106459475304714, train_acc: 0.9930423280423281\n",
      "valid_loss: 0.00034959847728411355, valid_acc: 0.9859523809523809\n"
     ]
    },
    {
     "name": "stderr",
     "output_type": "stream",
     "text": [
      "100%|██████████| 148/148 [01:25<00:00,  1.73it/s]\n",
      "100%|██████████| 17/17 [00:03<00:00,  4.58it/s]\n"
     ]
    },
    {
     "name": "stdout",
     "output_type": "stream",
     "text": [
      "epoch:23\n",
      "train_loss: 0.00024061985648971386, train_acc: 0.992910052910053\n",
      "valid_loss: 0.00034239205753519423, valid_acc: 0.9890476190476191\n"
     ]
    },
    {
     "name": "stderr",
     "output_type": "stream",
     "text": [
      "100%|██████████| 148/148 [01:36<00:00,  1.53it/s]\n",
      "100%|██████████| 17/17 [00:04<00:00,  4.07it/s]\n"
     ]
    },
    {
     "name": "stdout",
     "output_type": "stream",
     "text": [
      "epoch:24\n",
      "train_loss: 0.00023881236869822105, train_acc: 0.9936507936507937\n",
      "valid_loss: 0.0003218724436703182, valid_acc: 0.9890476190476191\n"
     ]
    },
    {
     "name": "stderr",
     "output_type": "stream",
     "text": [
      "100%|██████████| 148/148 [01:41<00:00,  1.46it/s]\n",
      "100%|██████████| 17/17 [00:03<00:00,  4.37it/s]\n"
     ]
    },
    {
     "name": "stdout",
     "output_type": "stream",
     "text": [
      "epoch:25\n",
      "train_loss: 0.00024024280330176077, train_acc: 0.9934126984126984\n",
      "valid_loss: 0.00032470118609212694, valid_acc: 0.9880952380952381\n"
     ]
    },
    {
     "name": "stderr",
     "output_type": "stream",
     "text": [
      "100%|██████████| 148/148 [01:40<00:00,  1.47it/s]\n",
      "100%|██████████| 17/17 [00:03<00:00,  4.37it/s]\n"
     ]
    },
    {
     "name": "stdout",
     "output_type": "stream",
     "text": [
      "epoch:26\n",
      "train_loss: 0.0002424057995870946, train_acc: 0.9932010582010582\n",
      "valid_loss: 0.0003936435530583064, valid_acc: 0.9842857142857143\n"
     ]
    },
    {
     "name": "stderr",
     "output_type": "stream",
     "text": [
      "100%|██████████| 148/148 [01:40<00:00,  1.47it/s]\n",
      "100%|██████████| 17/17 [00:03<00:00,  4.43it/s]\n"
     ]
    },
    {
     "name": "stdout",
     "output_type": "stream",
     "text": [
      "epoch:27\n",
      "train_loss: 0.00023857312621893706, train_acc: 0.9937566137566137\n",
      "valid_loss: 0.0003458595985458011, valid_acc: 0.9890476190476191\n"
     ]
    },
    {
     "name": "stderr",
     "output_type": "stream",
     "text": [
      "100%|██████████| 148/148 [01:38<00:00,  1.50it/s]\n",
      "100%|██████████| 17/17 [00:03<00:00,  4.34it/s]\n"
     ]
    },
    {
     "name": "stdout",
     "output_type": "stream",
     "text": [
      "epoch:28\n",
      "train_loss: 0.00024009802600457556, train_acc: 0.9936772486772487\n",
      "valid_loss: 0.00032069698951783636, valid_acc: 0.9880952380952381\n"
     ]
    },
    {
     "name": "stderr",
     "output_type": "stream",
     "text": [
      "100%|██████████| 148/148 [01:41<00:00,  1.46it/s]\n",
      "100%|██████████| 17/17 [00:03<00:00,  4.29it/s]\n"
     ]
    },
    {
     "name": "stdout",
     "output_type": "stream",
     "text": [
      "epoch:29\n",
      "train_loss: 0.00023817102809155745, train_acc: 0.9937301587301587\n",
      "valid_loss: 0.00036891527473926545, valid_acc: 0.9876190476190476\n"
     ]
    },
    {
     "name": "stderr",
     "output_type": "stream",
     "text": [
      "100%|██████████| 148/148 [01:39<00:00,  1.49it/s]\n",
      "100%|██████████| 17/17 [00:03<00:00,  4.47it/s]\n"
     ]
    },
    {
     "name": "stdout",
     "output_type": "stream",
     "text": [
      "epoch:30\n",
      "train_loss: 0.00023890954604934134, train_acc: 0.9940740740740741\n",
      "valid_loss: 0.00030869848139229277, valid_acc: 0.9904761904761905\n"
     ]
    },
    {
     "name": "stderr",
     "output_type": "stream",
     "text": [
      "100%|██████████| 148/148 [01:29<00:00,  1.64it/s]\n",
      "100%|██████████| 17/17 [00:03<00:00,  4.81it/s]\n"
     ]
    },
    {
     "name": "stdout",
     "output_type": "stream",
     "text": [
      "epoch:31\n",
      "train_loss: 0.00023859788639047158, train_acc: 0.9943915343915344\n",
      "valid_loss: 0.00030712792915957315, valid_acc: 0.9909523809523809\n"
     ]
    },
    {
     "name": "stderr",
     "output_type": "stream",
     "text": [
      "100%|██████████| 148/148 [01:31<00:00,  1.62it/s]\n",
      "100%|██████████| 17/17 [00:03<00:00,  4.83it/s]\n"
     ]
    },
    {
     "name": "stdout",
     "output_type": "stream",
     "text": [
      "epoch:32\n",
      "train_loss: 0.0002371601949608515, train_acc: 0.9942063492063492\n",
      "valid_loss: 0.0003367555540587221, valid_acc: 0.9890476190476191\n"
     ]
    },
    {
     "name": "stderr",
     "output_type": "stream",
     "text": [
      "100%|██████████| 148/148 [01:30<00:00,  1.63it/s]\n",
      "100%|██████████| 17/17 [00:03<00:00,  4.93it/s]\n"
     ]
    },
    {
     "name": "stdout",
     "output_type": "stream",
     "text": [
      "epoch:33\n",
      "train_loss: 0.00023704365368873353, train_acc: 0.9944444444444445\n",
      "valid_loss: 0.00033461626707797956, valid_acc: 0.9876190476190476\n"
     ]
    },
    {
     "name": "stderr",
     "output_type": "stream",
     "text": [
      "100%|██████████| 148/148 [01:31<00:00,  1.62it/s]\n",
      "100%|██████████| 17/17 [00:03<00:00,  4.76it/s]\n"
     ]
    },
    {
     "name": "stdout",
     "output_type": "stream",
     "text": [
      "epoch:34\n",
      "train_loss: 0.00023674293120623267, train_acc: 0.9942592592592593\n",
      "valid_loss: 0.0003922896832227707, valid_acc: 0.985\n"
     ]
    },
    {
     "name": "stderr",
     "output_type": "stream",
     "text": [
      "100%|██████████| 148/148 [01:31<00:00,  1.63it/s]\n",
      "100%|██████████| 17/17 [00:03<00:00,  4.76it/s]\n"
     ]
    },
    {
     "name": "stdout",
     "output_type": "stream",
     "text": [
      "epoch:35\n",
      "train_loss: 0.00023659366670818557, train_acc: 0.9944179894179894\n",
      "valid_loss: 0.0003725890141157877, valid_acc: 0.9852380952380952\n"
     ]
    },
    {
     "name": "stderr",
     "output_type": "stream",
     "text": [
      "100%|██████████| 148/148 [01:27<00:00,  1.69it/s]\n",
      "100%|██████████| 17/17 [00:04<00:00,  3.97it/s]\n"
     ]
    },
    {
     "name": "stdout",
     "output_type": "stream",
     "text": [
      "epoch:36\n",
      "train_loss: 0.0002349903223612321, train_acc: 0.9947619047619047\n",
      "valid_loss: 0.000309078029046456, valid_acc: 0.9907142857142858\n"
     ]
    },
    {
     "name": "stderr",
     "output_type": "stream",
     "text": [
      "100%|██████████| 148/148 [01:32<00:00,  1.59it/s]\n",
      "100%|██████████| 17/17 [00:05<00:00,  3.37it/s]\n"
     ]
    },
    {
     "name": "stdout",
     "output_type": "stream",
     "text": [
      "epoch:37\n",
      "train_loss: 0.0002339156692423833, train_acc: 0.9948148148148148\n",
      "valid_loss: 0.0002960075712984517, valid_acc: 0.9904761904761905\n"
     ]
    },
    {
     "name": "stderr",
     "output_type": "stream",
     "text": [
      "100%|██████████| 148/148 [01:33<00:00,  1.59it/s]\n",
      "100%|██████████| 17/17 [00:04<00:00,  3.57it/s]\n"
     ]
    },
    {
     "name": "stdout",
     "output_type": "stream",
     "text": [
      "epoch:38\n",
      "train_loss: 0.00023356004524483252, train_acc: 0.9946296296296296\n",
      "valid_loss: 0.0003395189256185577, valid_acc: 0.9880952380952381\n"
     ]
    },
    {
     "name": "stderr",
     "output_type": "stream",
     "text": [
      "100%|██████████| 148/148 [01:34<00:00,  1.57it/s]\n",
      "100%|██████████| 17/17 [00:04<00:00,  4.22it/s]\n"
     ]
    },
    {
     "name": "stdout",
     "output_type": "stream",
     "text": [
      "epoch:39\n",
      "train_loss: 0.00023166007593904855, train_acc: 0.9948677248677249\n",
      "valid_loss: 0.0003245214284175918, valid_acc: 0.9883333333333333\n"
     ]
    },
    {
     "name": "stderr",
     "output_type": "stream",
     "text": [
      "100%|██████████| 148/148 [01:29<00:00,  1.65it/s]\n",
      "100%|██████████| 17/17 [00:04<00:00,  4.02it/s]"
     ]
    },
    {
     "name": "stdout",
     "output_type": "stream",
     "text": [
      "epoch:40\n",
      "train_loss: 0.00023073143113857856, train_acc: 0.994973544973545\n",
      "valid_loss: 0.0003178883237498147, valid_acc: 0.9892857142857143\n"
     ]
    },
    {
     "name": "stderr",
     "output_type": "stream",
     "text": [
      "\n"
     ]
    },
    {
     "data": {
      "text/plain": [
       "Text(0, 0.5, 'Loss')"
      ]
     },
     "execution_count": 17,
     "metadata": {},
     "output_type": "execute_result"
    },
    {
     "data": {
      "image/png": "[encoded data removed]",
      "text/plain": [
       "<Figure size 640x480 with 2 Axes>"
      ]
     },
     "metadata": {},
     "output_type": "display_data"
    }
   ],
   "source": [
    "acc_list= []\n",
    "valid_acc_list= []\n",
    "\n",
    "loss_list= []\n",
    "valid_loss_list= []\n",
    "\n",
    "model.zero_grad()\n",
    "for epoch in range(num_epochs):\n",
    "    model.train()\n",
    "    train_acc= 0.0\n",
    "    train_loss= 0.0\n",
    "    \n",
    "    valid_loss = 0.0\n",
    "    valid_acc = 0.0\n",
    "    \n",
    "    for imgs, labels in tqdm(train_loader):\n",
    "        output = model(imgs)\n",
    "        output_label = output.argmax(dim=1)\n",
    "        loss = loss_fn(output, labels)\n",
    "        \n",
    "        optimizer.zero_grad()\n",
    "        loss.backward()\n",
    "        optimizer.step()\n",
    "        \n",
    "        train_loss+= loss.item()\n",
    "        train_acc+= (output_label == labels).sum().item()\n",
    "    \n",
    "    train_loss/= len(train_dataset)\n",
    "    train_acc/= len(train_dataset)\n",
    "    loss_list.append(train_loss)\n",
    "    acc_list.append(train_acc)\n",
    "    \n",
    "    #validation\n",
    "    model.eval()\n",
    "    for imgs, labels in tqdm(valid_loader):\n",
    "        output = model(imgs)\n",
    "        output_label = output.argmax(dim=1)\n",
    "        loss = loss_fn(output, labels)\n",
    "        \n",
    "        valid_loss+= loss.item()\n",
    "        valid_acc+= (output_label == labels).sum().item()\n",
    "    \n",
    "    valid_loss/= len(valid_dataset)\n",
    "    valid_acc/= len(valid_dataset)\n",
    "    valid_loss_list.append(valid_loss)\n",
    "    valid_acc_list.append(valid_acc)\n",
    "    \n",
    "    print(f\"epoch:{epoch + 1}\")\n",
    "    print(f\"train_loss: {train_loss}, train_acc: {train_acc}\")\n",
    "    print(f\"valid_loss: {valid_loss}, valid_acc: {valid_acc}\")\n",
    "\n",
    "plt.subplot(211)\n",
    "plt.title('Acc per epochs')\n",
    "plt.plot(acc_list)\n",
    "plt.plot(valid_acc_list)\n",
    "plt.xlabel('epochs')\n",
    "plt.ylabel('Accuracy')\n",
    "\n",
    "plt.subplot(212)\n",
    "plt.title('Loss per epochs')\n",
    "plt.plot(loss_list)\n",
    "plt.plot(valid_loss_list)\n",
    "plt.xlabel('epochs')\n",
    "plt.ylabel('Loss')"
   ]
  },
  {
   "cell_type": "code",
   "execution_count": 18,
   "id": "bfc24760",
   "metadata": {
    "execution": {
     "iopub.execute_input": "2024-09-05T08:28:52.111414Z",
     "iopub.status.busy": "2024-09-05T08:28:52.110976Z",
     "iopub.status.idle": "2024-09-05T08:29:30.346812Z",
     "shell.execute_reply": "2024-09-05T08:29:30.345615Z"
    },
    "papermill": {
     "duration": 39.562141,
     "end_time": "2024-09-05T08:29:30.976412",
     "exception": false,
     "start_time": "2024-09-05T08:28:51.414271",
     "status": "completed"
    },
    "tags": []
   },
   "outputs": [
    {
     "data": {
      "text/plain": [
       "tensor([2, 0, 9,  ..., 3, 9, 2])"
      ]
     },
     "execution_count": 18,
     "metadata": {},
     "output_type": "execute_result"
    }
   ],
   "source": [
    "model.eval()\n",
    "\n",
    "for test_imgs in test_loader:\n",
    "    pred = model(test_imgs[0])\n",
    "    pred_label = pred.argmax(dim=1)\n",
    "\n",
    "pred_label"
   ]
  },
  {
   "cell_type": "code",
   "execution_count": 19,
   "id": "c6984d6a",
   "metadata": {
    "execution": {
     "iopub.execute_input": "2024-09-05T08:29:32.235152Z",
     "iopub.status.busy": "2024-09-05T08:29:32.234379Z",
     "iopub.status.idle": "2024-09-05T08:29:32.306730Z",
     "shell.execute_reply": "2024-09-05T08:29:32.305609Z"
    },
    "papermill": {
     "duration": 0.706008,
     "end_time": "2024-09-05T08:29:32.309823",
     "exception": false,
     "start_time": "2024-09-05T08:29:31.603815",
     "status": "completed"
    },
    "tags": []
   },
   "outputs": [],
   "source": [
    "submission = pd.read_csv(args['submission'])\n",
    "submission['Label'] = pred_label\n",
    "submission.to_csv('submission.csv',index=False)"
   ]
  },
  {
   "cell_type": "code",
   "execution_count": 20,
   "id": "1404dda4",
   "metadata": {
    "execution": {
     "iopub.execute_input": "2024-09-05T08:29:33.634014Z",
     "iopub.status.busy": "2024-09-05T08:29:33.633572Z",
     "iopub.status.idle": "2024-09-05T08:29:33.645418Z",
     "shell.execute_reply": "2024-09-05T08:29:33.644419Z"
    },
    "papermill": {
     "duration": 0.650905,
     "end_time": "2024-09-05T08:29:33.647884",
     "exception": false,
     "start_time": "2024-09-05T08:29:32.996979",
     "status": "completed"
    },
    "tags": []
   },
   "outputs": [
    {
     "data": {
      "text/html": [
       "<div>\n",
       "<style scoped>\n",
       "    .dataframe tbody tr th:only-of-type {\n",
       "        vertical-align: middle;\n",
       "    }\n",
       "\n",
       "    .dataframe tbody tr th {\n",
       "        vertical-align: top;\n",
       "    }\n",
       "\n",
       "    .dataframe thead th {\n",
       "        text-align: right;\n",
       "    }\n",
       "</style>\n",
       "<table border=\"1\" class=\"dataframe\">\n",
       "  <thead>\n",
       "    <tr style=\"text-align: right;\">\n",
       "      <th></th>\n",
       "      <th>ImageId</th>\n",
       "      <th>Label</th>\n",
       "    </tr>\n",
       "  </thead>\n",
       "  <tbody>\n",
       "    <tr>\n",
       "      <th>0</th>\n",
       "      <td>1</td>\n",
       "      <td>2</td>\n",
       "    </tr>\n",
       "    <tr>\n",
       "      <th>1</th>\n",
       "      <td>2</td>\n",
       "      <td>0</td>\n",
       "    </tr>\n",
       "    <tr>\n",
       "      <th>2</th>\n",
       "      <td>3</td>\n",
       "      <td>9</td>\n",
       "    </tr>\n",
       "    <tr>\n",
       "      <th>3</th>\n",
       "      <td>4</td>\n",
       "      <td>0</td>\n",
       "    </tr>\n",
       "    <tr>\n",
       "      <th>4</th>\n",
       "      <td>5</td>\n",
       "      <td>3</td>\n",
       "    </tr>\n",
       "    <tr>\n",
       "      <th>...</th>\n",
       "      <td>...</td>\n",
       "      <td>...</td>\n",
       "    </tr>\n",
       "    <tr>\n",
       "      <th>27995</th>\n",
       "      <td>27996</td>\n",
       "      <td>9</td>\n",
       "    </tr>\n",
       "    <tr>\n",
       "      <th>27996</th>\n",
       "      <td>27997</td>\n",
       "      <td>7</td>\n",
       "    </tr>\n",
       "    <tr>\n",
       "      <th>27997</th>\n",
       "      <td>27998</td>\n",
       "      <td>3</td>\n",
       "    </tr>\n",
       "    <tr>\n",
       "      <th>27998</th>\n",
       "      <td>27999</td>\n",
       "      <td>9</td>\n",
       "    </tr>\n",
       "    <tr>\n",
       "      <th>27999</th>\n",
       "      <td>28000</td>\n",
       "      <td>2</td>\n",
       "    </tr>\n",
       "  </tbody>\n",
       "</table>\n",
       "<p>28000 rows × 2 columns</p>\n",
       "</div>"
      ],
      "text/plain": [
       "       ImageId  Label\n",
       "0            1      2\n",
       "1            2      0\n",
       "2            3      9\n",
       "3            4      0\n",
       "4            5      3\n",
       "...        ...    ...\n",
       "27995    27996      9\n",
       "27996    27997      7\n",
       "27997    27998      3\n",
       "27998    27999      9\n",
       "27999    28000      2\n",
       "\n",
       "[28000 rows x 2 columns]"
      ]
     },
     "execution_count": 20,
     "metadata": {},
     "output_type": "execute_result"
    }
   ],
   "source": [
    "submission"
   ]
  },
  {
   "cell_type": "code",
   "execution_count": 21,
   "id": "e899d51b",
   "metadata": {
    "execution": {
     "iopub.execute_input": "2024-09-05T08:29:34.913191Z",
     "iopub.status.busy": "2024-09-05T08:29:34.912233Z",
     "iopub.status.idle": "2024-09-05T08:29:35.587709Z",
     "shell.execute_reply": "2024-09-05T08:29:35.586239Z"
    },
    "papermill": {
     "duration": 1.30435,
     "end_time": "2024-09-05T08:29:35.590070",
     "exception": false,
     "start_time": "2024-09-05T08:29:34.285720",
     "status": "completed"
    },
    "tags": []
   },
   "outputs": [
    {
     "data": {
      "image/png": "[encoded data removed]",
      "text/plain": [
       "<Figure size 640x480 with 1 Axes>"
      ]
     },
     "metadata": {},
     "output_type": "display_data"
    }
   ],
   "source": [
    "for item in test_loader:\n",
    "    plt.imshow(item[0][27999])"
   ]
  },
  {
   "cell_type": "code",
   "execution_count": null,
   "id": "ae38f07b",
   "metadata": {
    "papermill": {
     "duration": 0.643208,
     "end_time": "2024-09-05T08:29:36.932156",
     "exception": false,
     "start_time": "2024-09-05T08:29:36.288948",
     "status": "completed"
    },
    "tags": []
   },
   "outputs": [],
   "source": []
  }
 ],
 "metadata": {
  "kaggle": {
   "accelerator": "none",
   "dataSources": [
    {
     "databundleVersionId": 861823,
     "sourceId": 3004,
     "sourceType": "competition"
    }
   ],
   "dockerImageVersionId": 30761,
   "isGpuEnabled": false,
   "isInternetEnabled": true,
   "language": "python",
   "sourceType": "notebook"
  },
  "kernelspec": {
   "display_name": "Python 3",
   "language": "python",
   "name": "python3"
  },
  "language_info": {
   "codemirror_mode": {
    "name": "ipython",
    "version": 3
   },
   "file_extension": ".py",
   "mimetype": "text/x-python",
   "name": "python",
   "nbconvert_exporter": "python",
   "pygments_lexer": "ipython3",
   "version": "3.10.14"
  },
  "papermill": {
   "default_parameters": {},
   "duration": 3840.989963,
   "end_time": "2024-09-05T08:29:39.907162",
   "environment_variables": {},
   "exception": null,
   "input_path": "__notebook__.ipynb",
   "output_path": "__notebook__.ipynb",
   "parameters": {},
   "start_time": "2024-09-05T07:25:38.917199",
   "version": "2.6.0"
  }
 },
 "nbformat": 4,
 "nbformat_minor": 5
}
